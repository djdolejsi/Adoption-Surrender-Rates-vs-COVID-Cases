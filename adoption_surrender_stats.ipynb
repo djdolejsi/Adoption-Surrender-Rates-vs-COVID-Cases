{
 "cells": [
  {
   "cell_type": "code",
   "execution_count": 1,
   "id": "b1735664-133a-4cfd-82f7-066c268160cc",
   "metadata": {},
   "outputs": [],
   "source": [
    "import pandas as pd\n",
    "import numpy as np\n",
    "import matplotlib.pyplot as plt\n",
    "import os\n",
    "import warnings\n",
    "import scipy.stats as st\n",
    "\n",
    "#remove warning messages that are annoyting >:(\n",
    "warnings.simplefilter(action='ignore', category=FutureWarning)"
   ]
  },
  {
   "cell_type": "code",
   "execution_count": 3,
   "id": "479a57d2-a0ef-4dfa-94f2-1b062db8b9d6",
   "metadata": {},
   "outputs": [
    {
     "data": {
      "text/html": [
       "<div>\n",
       "<style scoped>\n",
       "    .dataframe tbody tr th:only-of-type {\n",
       "        vertical-align: middle;\n",
       "    }\n",
       "\n",
       "    .dataframe tbody tr th {\n",
       "        vertical-align: top;\n",
       "    }\n",
       "\n",
       "    .dataframe thead th {\n",
       "        text-align: right;\n",
       "    }\n",
       "</style>\n",
       "<table border=\"1\" class=\"dataframe\">\n",
       "  <thead>\n",
       "    <tr style=\"text-align: right;\">\n",
       "      <th></th>\n",
       "      <th>Unnamed: 0</th>\n",
       "      <th>month_year</th>\n",
       "      <th>cases</th>\n",
       "      <th>cat_adoption</th>\n",
       "      <th>cat_surrender</th>\n",
       "      <th>dog_adoption</th>\n",
       "      <th>dog_surrender</th>\n",
       "      <th>blank</th>\n",
       "    </tr>\n",
       "  </thead>\n",
       "  <tbody>\n",
       "    <tr>\n",
       "      <th>0</th>\n",
       "      <td>26</td>\n",
       "      <td>2017-10</td>\n",
       "      <td>NaN</td>\n",
       "      <td>199</td>\n",
       "      <td>192</td>\n",
       "      <td>685</td>\n",
       "      <td>537</td>\n",
       "      <td>NaN</td>\n",
       "    </tr>\n",
       "    <tr>\n",
       "      <th>1</th>\n",
       "      <td>27</td>\n",
       "      <td>2017-11</td>\n",
       "      <td>NaN</td>\n",
       "      <td>204</td>\n",
       "      <td>127</td>\n",
       "      <td>686</td>\n",
       "      <td>432</td>\n",
       "      <td>NaN</td>\n",
       "    </tr>\n",
       "    <tr>\n",
       "      <th>2</th>\n",
       "      <td>28</td>\n",
       "      <td>2017-12</td>\n",
       "      <td>NaN</td>\n",
       "      <td>181</td>\n",
       "      <td>106</td>\n",
       "      <td>496</td>\n",
       "      <td>387</td>\n",
       "      <td>NaN</td>\n",
       "    </tr>\n",
       "    <tr>\n",
       "      <th>3</th>\n",
       "      <td>29</td>\n",
       "      <td>2018-01</td>\n",
       "      <td>NaN</td>\n",
       "      <td>162</td>\n",
       "      <td>128</td>\n",
       "      <td>659</td>\n",
       "      <td>563</td>\n",
       "      <td>NaN</td>\n",
       "    </tr>\n",
       "    <tr>\n",
       "      <th>4</th>\n",
       "      <td>30</td>\n",
       "      <td>2018-02</td>\n",
       "      <td>NaN</td>\n",
       "      <td>89</td>\n",
       "      <td>56</td>\n",
       "      <td>487</td>\n",
       "      <td>441</td>\n",
       "      <td>NaN</td>\n",
       "    </tr>\n",
       "  </tbody>\n",
       "</table>\n",
       "</div>"
      ],
      "text/plain": [
       "   Unnamed: 0 month_year  cases  cat_adoption  cat_surrender  dog_adoption  \\\n",
       "0          26    2017-10    NaN           199            192           685   \n",
       "1          27    2017-11    NaN           204            127           686   \n",
       "2          28    2017-12    NaN           181            106           496   \n",
       "3          29    2018-01    NaN           162            128           659   \n",
       "4          30    2018-02    NaN            89             56           487   \n",
       "\n",
       "   dog_surrender  blank  \n",
       "0            537    NaN  \n",
       "1            432    NaN  \n",
       "2            387    NaN  \n",
       "3            563    NaN  \n",
       "4            441    NaN  "
      ]
     },
     "execution_count": 3,
     "metadata": {},
     "output_type": "execute_result"
    }
   ],
   "source": [
    "df = pd.read_csv('./clean_datasets/all_merged_data.csv')\n",
    "df.head()"
   ]
  },
  {
   "cell_type": "code",
   "execution_count": 15,
   "id": "e1ff62ac-ee89-433b-9f58-763ab0f6407e",
   "metadata": {},
   "outputs": [
    {
     "data": {
      "text/html": [
       "<div>\n",
       "<style scoped>\n",
       "    .dataframe tbody tr th:only-of-type {\n",
       "        vertical-align: middle;\n",
       "    }\n",
       "\n",
       "    .dataframe tbody tr th {\n",
       "        vertical-align: top;\n",
       "    }\n",
       "\n",
       "    .dataframe thead th {\n",
       "        text-align: right;\n",
       "    }\n",
       "</style>\n",
       "<table border=\"1\" class=\"dataframe\">\n",
       "  <thead>\n",
       "    <tr style=\"text-align: right;\">\n",
       "      <th></th>\n",
       "      <th>Unnamed: 0</th>\n",
       "      <th>month_year</th>\n",
       "      <th>cases</th>\n",
       "      <th>cat_adoption</th>\n",
       "      <th>cat_surrender</th>\n",
       "      <th>dog_adoption</th>\n",
       "      <th>dog_surrender</th>\n",
       "      <th>blank</th>\n",
       "      <th>year</th>\n",
       "    </tr>\n",
       "  </thead>\n",
       "  <tbody>\n",
       "    <tr>\n",
       "      <th>0</th>\n",
       "      <td>26</td>\n",
       "      <td>2017-10</td>\n",
       "      <td>NaN</td>\n",
       "      <td>199</td>\n",
       "      <td>192</td>\n",
       "      <td>685</td>\n",
       "      <td>537</td>\n",
       "      <td>NaN</td>\n",
       "      <td>2017</td>\n",
       "    </tr>\n",
       "    <tr>\n",
       "      <th>1</th>\n",
       "      <td>27</td>\n",
       "      <td>2017-11</td>\n",
       "      <td>NaN</td>\n",
       "      <td>204</td>\n",
       "      <td>127</td>\n",
       "      <td>686</td>\n",
       "      <td>432</td>\n",
       "      <td>NaN</td>\n",
       "      <td>2017</td>\n",
       "    </tr>\n",
       "    <tr>\n",
       "      <th>2</th>\n",
       "      <td>28</td>\n",
       "      <td>2017-12</td>\n",
       "      <td>NaN</td>\n",
       "      <td>181</td>\n",
       "      <td>106</td>\n",
       "      <td>496</td>\n",
       "      <td>387</td>\n",
       "      <td>NaN</td>\n",
       "      <td>2017</td>\n",
       "    </tr>\n",
       "    <tr>\n",
       "      <th>3</th>\n",
       "      <td>29</td>\n",
       "      <td>2018-01</td>\n",
       "      <td>NaN</td>\n",
       "      <td>162</td>\n",
       "      <td>128</td>\n",
       "      <td>659</td>\n",
       "      <td>563</td>\n",
       "      <td>NaN</td>\n",
       "      <td>2018</td>\n",
       "    </tr>\n",
       "    <tr>\n",
       "      <th>4</th>\n",
       "      <td>30</td>\n",
       "      <td>2018-02</td>\n",
       "      <td>NaN</td>\n",
       "      <td>89</td>\n",
       "      <td>56</td>\n",
       "      <td>487</td>\n",
       "      <td>441</td>\n",
       "      <td>NaN</td>\n",
       "      <td>2018</td>\n",
       "    </tr>\n",
       "  </tbody>\n",
       "</table>\n",
       "</div>"
      ],
      "text/plain": [
       "   Unnamed: 0 month_year  cases  cat_adoption  cat_surrender  dog_adoption  \\\n",
       "0          26    2017-10    NaN           199            192           685   \n",
       "1          27    2017-11    NaN           204            127           686   \n",
       "2          28    2017-12    NaN           181            106           496   \n",
       "3          29    2018-01    NaN           162            128           659   \n",
       "4          30    2018-02    NaN            89             56           487   \n",
       "\n",
       "   dog_surrender  blank  year  \n",
       "0            537    NaN  2017  \n",
       "1            432    NaN  2017  \n",
       "2            387    NaN  2017  \n",
       "3            563    NaN  2018  \n",
       "4            441    NaN  2018  "
      ]
     },
     "execution_count": 15,
     "metadata": {},
     "output_type": "execute_result"
    }
   ],
   "source": [
    "df['year'] = df['month_year'].str.split('-',1,expand=True)[0]\n",
    "df.head()"
   ]
  },
  {
   "cell_type": "code",
   "execution_count": 62,
   "id": "9c857506-49bf-4647-9768-876982f9d1d4",
   "metadata": {},
   "outputs": [
    {
     "name": "stdout",
     "output_type": "stream",
     "text": [
      "For cat_adoption, Ttest_indResult(statistic=3.9954597627263966, pvalue=0.0007741799640520793)\n",
      "For dog_adoption, Ttest_indResult(statistic=3.9338184207196893, pvalue=0.0008912373463463425)\n",
      "For cat_surrender, Ttest_indResult(statistic=3.9503614573698482, pvalue=0.0008581872656143924)\n",
      "For dog_surrender, Ttest_indResult(statistic=6.164353022652193, pvalue=6.3454800506290125e-06)\n"
     ]
    }
   ],
   "source": [
    "data_mean = df.groupby('year').mean()\n",
    "data_mean = data_mean[data_mean.index.isin(['2019', '2022'])]\n",
    "data_sem = df.groupby('year').sem()\n",
    "data_sem = data_sem[data_sem.index.isin(['2019', '2022'])]\n",
    "category = ['cat_adoption', 'dog_adoption', 'cat_surrender', 'dog_surrender']\n",
    "for c in category:\n",
    "    a = df.loc[df['year'] == '2019', c].to_numpy()\n",
    "    b = df.loc[df['year'] == '2022', c].to_numpy()\n",
    "    print(f'For {c}, {st.ttest_ind(a,b)}')\n",
    "    "
   ]
  },
  {
   "cell_type": "code",
   "execution_count": 63,
   "id": "b083f1e2-3c99-49a7-b702-65fa2244991f",
   "metadata": {},
   "outputs": [
    {
     "data": {
      "image/png": "[encoded data removed]",
      "text/plain": [
       "<Figure size 576x360 with 1 Axes>"
      ]
     },
     "metadata": {
      "needs_background": "light"
     },
     "output_type": "display_data"
    }
   ],
   "source": [
    "data_mean[['cat_adoption', 'dog_adoption']].plot(kind='bar', yerr = data_sem[['cat_adoption', 'dog_adoption']], figsize=(8,5), capsize = 4)\n",
    "plt.legend(['Cat Adoption', 'Dog Adoption'])\n",
    "plt.title('Average Animal Adoption Per Year')\n",
    "plt.ylabel('Adoptions')\n",
    "plt.xlabel('Year')\n",
    "plt.savefig('./plots/adoptions_per_year.png')\n",
    "plt.show()"
   ]
  },
  {
   "cell_type": "code",
   "execution_count": 64,
   "id": "a65a8852-0d3a-4946-bfa3-e845490c507a",
   "metadata": {},
   "outputs": [
    {
     "data": {
      "image/png": "[encoded data removed]",
      "text/plain": [
       "<Figure size 576x360 with 1 Axes>"
      ]
     },
     "metadata": {
      "needs_background": "light"
     },
     "output_type": "display_data"
    }
   ],
   "source": [
    "data_mean[['cat_surrender', 'dog_surrender']].plot(kind='bar', yerr = data_sem[['cat_surrender', 'dog_surrender']], figsize=(8,5), capsize = 4)\n",
    "plt.legend(['Cat Surrender', 'Dog Surrender'])\n",
    "plt.title('Average Animal Surrender Per Year')\n",
    "plt.ylabel('Surrenders')\n",
    "plt.xlabel('Year')\n",
    "plt.savefig('./plots/surrender_per_year.png')\n",
    "plt.show()"
   ]
  },
  {
   "cell_type": "code",
   "execution_count": null,
   "id": "2fabee6c-d4d6-4d34-8e2b-03e09a15f027",
   "metadata": {},
   "outputs": [],
   "source": []
  }
 ],
 "metadata": {
  "kernelspec": {
   "display_name": "Python 3 (ipykernel)",
   "language": "python",
   "name": "python3"
  },
  "language_info": {
   "codemirror_mode": {
    "name": "ipython",
    "version": 3
   },
   "file_extension": ".py",
   "mimetype": "text/x-python",
   "name": "python",
   "nbconvert_exporter": "python",
   "pygments_lexer": "ipython3",
   "version": "3.9.12"
  }
 },
 "nbformat": 4,
 "nbformat_minor": 5
}
