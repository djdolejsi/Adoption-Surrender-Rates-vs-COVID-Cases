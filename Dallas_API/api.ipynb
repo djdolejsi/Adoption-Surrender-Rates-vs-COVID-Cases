{
 "cells": [
  {
   "cell_type": "code",
   "execution_count": 1,
   "id": "93a26032",
   "metadata": {},
   "outputs": [
    {
     "ename": "ModuleNotFoundError",
     "evalue": "No module named 'config'",
     "output_type": "error",
     "traceback": [
      "\u001b[1;31m---------------------------------------------------------------------------\u001b[0m",
      "\u001b[1;31mModuleNotFoundError\u001b[0m                       Traceback (most recent call last)",
      "Input \u001b[1;32mIn [1]\u001b[0m, in \u001b[0;36m<cell line: 9>\u001b[1;34m()\u001b[0m\n\u001b[0;32m      7\u001b[0m \u001b[38;5;28;01mimport\u001b[39;00m \u001b[38;5;21;01mpandas\u001b[39;00m \u001b[38;5;28;01mas\u001b[39;00m \u001b[38;5;21;01mpd\u001b[39;00m\n\u001b[0;32m      8\u001b[0m \u001b[38;5;28;01mfrom\u001b[39;00m \u001b[38;5;21;01msodapy\u001b[39;00m \u001b[38;5;28;01mimport\u001b[39;00m Socrata\n\u001b[1;32m----> 9\u001b[0m \u001b[38;5;28;01mfrom\u001b[39;00m \u001b[38;5;21;01mconfig\u001b[39;00m \u001b[38;5;28;01mimport\u001b[39;00m myapptoken\n\u001b[0;32m     10\u001b[0m \u001b[38;5;28;01mfrom\u001b[39;00m \u001b[38;5;21;01mconfig\u001b[39;00m \u001b[38;5;28;01mimport\u001b[39;00m username\n\u001b[0;32m     11\u001b[0m \u001b[38;5;28;01mfrom\u001b[39;00m \u001b[38;5;21;01mconfig\u001b[39;00m \u001b[38;5;28;01mimport\u001b[39;00m password\n",
      "\u001b[1;31mModuleNotFoundError\u001b[0m: No module named 'config'"
     ]
    }
   ],
   "source": [
    "#!/usr/bin/env python\n",
    "\n",
    "# make sure to install these packages before running:\n",
    "# pip install pandas\n",
    "# pip install sodapy\n",
    "\n",
    "import pandas as pd\n",
    "from sodapy import Socrata\n",
    "from config import myapptoken\n",
    "from config import username\n",
    "from config import password\n",
    "import matplotlib.pyplot as plt\n",
    "import numpy as np\n",
    "\n",
    "# Example authenticated client (needed for non-public datasets):\n",
    "client = Socrata(\"www.dallasopendata.com\",\n",
    "                 myapptoken,\n",
    "                 username= username,\n",
    "                 password= password)\n",
    "\n",
    "# First 2000 results, returned as JSON from API / converted to Python list of\n",
    "# dictionaries by sodapy.\n",
    "results = client.get(\"f77p-sgrc\", limit=30000)\n",
    "results1 = client.get(\"7h2m-3um5\", limit=40000)\n",
    "results2 = client.get(\"wb7n-sdxi\", limit=40000)\n",
    "results3 = client.get(\"kf5k-aswg\", limit=50000)\n",
    "\n",
    "# Convert to pandas DataFrame\n",
    "results_df = pd.DataFrame.from_records(results)\n",
    "results_df1 = pd.DataFrame.from_records(results1)\n",
    "results_df2 = pd.DataFrame.from_records(results2)\n",
    "results_df3 = pd.DataFrame.from_records(results3)"
   ]
  },
  {
   "cell_type": "code",
   "execution_count": null,
   "id": "154a0bff",
   "metadata": {},
   "outputs": [],
   "source": [
    "#Merge Data\n",
    "adoption_df = pd.merge(results_df, pd.merge(results_df1, pd.merge(results_df2, results_df3, how=\"outer\"), how=\"outer\"), how = \"outer\")"
   ]
  },
  {
   "cell_type": "code",
   "execution_count": null,
   "id": "98a14630",
   "metadata": {},
   "outputs": [],
   "source": [
    "#Delete unnecessary columns\n",
    "adoption_df = adoption_df.drop(columns=['kennel_number', 'activity_number', 'activity_sequence', 'source_id', 'census_tract', 'council_district', 'intake_total', 'reason', 'staff_id', 'due_out', 'hold_request', 'outcome_subtype', 'outcome_time', 'receipt_number', 'impound_number', 'service_request_number', 'chip_status', 'animal_origin', 'intake_time', 'additional_information'])"
   ]
  },
  {
   "cell_type": "code",
   "execution_count": null,
   "id": "d6d54cc7",
   "metadata": {},
   "outputs": [],
   "source": [
    "#Dropped duplicates\n",
    "adoption_df = adoption_df.sort_values('month').drop_duplicates(['animal_id'], keep='last')"
   ]
  },
  {
   "cell_type": "code",
   "execution_count": null,
   "id": "d4270b87",
   "metadata": {},
   "outputs": [],
   "source": [
    "#Converting Months into numbers\n",
    "def month_converter(data):\n",
    "    data_split = data.split('.')\n",
    "    #Define the translation table\n",
    "    mapping = pd.DataFrame({'JAN':['01'], 'FEB':['02'], 'MAR':['03'], 'APR':['04'], 'MAY':['05'], 'JUN':['06'], 'JUL':['07'], 'AUG':['08'], 'SEP':['09'], 'OCT':['10'], 'NOV':['11'], 'DEC':['12']})\n",
    "    #get the number of the month\n",
    "    month_num = mapping[data_split[0]][0]\n",
    "    #Join the the month and year to get the result\n",
    "    result = '-'.join([data_split[1], month_num])\n",
    "    return(result)"
   ]
  },
  {
   "cell_type": "code",
   "execution_count": null,
   "id": "686cabe8",
   "metadata": {},
   "outputs": [],
   "source": [
    "#Dog data only\n",
    "dog_df = adoption_df.loc[(adoption_df[\"animal_type\"]== \"DOG\")]"
   ]
  },
  {
   "cell_type": "code",
   "execution_count": null,
   "id": "ffba0ee7",
   "metadata": {},
   "outputs": [],
   "source": [
    "#Dog adoption\n",
    "dog_adopt_df = dog_df.loc[dog_df[\"outcome_type\"]==\"ADOPTION\"]\n",
    "dog_adopt_df.to_csv(\"../clean_datasets/DogAdopt.csv\")"
   ]
  },
  {
   "cell_type": "code",
   "execution_count": null,
   "id": "1c44b5d2",
   "metadata": {},
   "outputs": [],
   "source": [
    "#Cat data only\n",
    "cat_df = adoption_df.loc[(adoption_df[\"animal_type\"] == \"CAT\")]"
   ]
  },
  {
   "cell_type": "code",
   "execution_count": null,
   "id": "39a7d0b1",
   "metadata": {},
   "outputs": [],
   "source": [
    "#Cat adoption\n",
    "cat_adopt_df = cat_df.loc[cat_df[\"outcome_type\"]==\"ADOPTION\"]\n",
    "cat_adopt_df.to_csv(\"../clean_datasets/CatAdopt.csv\")"
   ]
  },
  {
   "cell_type": "code",
   "execution_count": null,
   "id": "402515f3",
   "metadata": {},
   "outputs": [],
   "source": [
    "#Dog adoption in 2018\n",
    "dogadopt18_df = dog_adopt_df.loc[dog_adopt_df['year']=='FY2018']\n",
    "dogadopt18_df.month=dogadopt18_df.month.apply(month_converter)\n",
    "dogmonth18 = dogadopt18_df.groupby(['month']).outcome_type.count()\n",
    "#Dog adoption in 2019\n",
    "dogadopt19_df = dog_adopt_df.loc[dog_adopt_df['year']=='FY2019']\n",
    "dogadopt19_df.month=dogadopt19_df.month.apply(month_converter)\n",
    "dogmonth19 = dogadopt19_df.groupby(['month']).outcome_type.count()\n",
    "#Dog adoption in 2022\n",
    "dogadopt22_df = dog_adopt_df.loc[dog_adopt_df['year']=='FY2022']\n",
    "dogadopt22_df.month=dogadopt22_df.month.apply(month_converter)\n",
    "dogmonth22 = dogadopt22_df.groupby(['month']).outcome_type.count()"
   ]
  },
  {
   "cell_type": "code",
   "execution_count": null,
   "id": "8b25f4fb",
   "metadata": {
    "scrolled": true
   },
   "outputs": [],
   "source": [
    "#Cat adoption in 2018\n",
    "catadopt18_df = cat_adopt_df.loc[cat_adopt_df['year']=='FY2018']\n",
    "catadopt18_df.month=catadopt18_df.month.apply(month_converter)\n",
    "catmonth18 = catadopt18_df.groupby(['month']).outcome_type.count()\n",
    "#Cat adoption in 2019\n",
    "catadopt19_df = cat_adopt_df.loc[cat_adopt_df['year']=='FY2019']\n",
    "catadopt19_df.month=catadopt19_df.month.apply(month_converter)\n",
    "catmonth19 = catadopt19_df.groupby(['month']).outcome_type.count()\n",
    "#Cat adoption in 2022\n",
    "catadopt22_df = cat_adopt_df.loc[cat_adopt_df['year']=='FY2022']\n",
    "catadopt22_df.month=catadopt22_df.month.apply(month_converter)\n",
    "catmonth22 = catadopt22_df.groupby(['month']).outcome_type.count()"
   ]
  },
  {
   "cell_type": "code",
   "execution_count": null,
   "id": "8b59d1f4",
   "metadata": {},
   "outputs": [],
   "source": [
    "#X and Y value for Dogmonth18\n",
    "x1 = dogmonth18.index\n",
    "y1 = dogmonth18.values\n",
    "\n",
    "#X and Y value for Catmonth18\n",
    "x2 = catmonth18.index\n",
    "y2 = catmonth18.values\n",
    "\n",
    "plt.figure(figsize=(15,5))\n",
    "plt.plot(x1, y1, color='r', label='Dog')\n",
    "plt.plot(x2, y2, color='g', label='Cat')\n",
    "plt.xlabel('Months in FY2018')\n",
    "plt.ylabel('Number of Dog/Cat Adoption')\n",
    "plt.title('Number of Dog/Cat Adoption in FY2018')\n",
    "plt.yticks(np.arange(0,1000,100))\n",
    "plt.legend()\n",
    "plt.savefig('../Dallas_API/Plots/Adopt2018.png', dpi=300, bbox_inches='tight')\n",
    "\n",
    "plt.show()"
   ]
  },
  {
   "cell_type": "code",
   "execution_count": null,
   "id": "90d892d0",
   "metadata": {},
   "outputs": [],
   "source": [
    "#X and Y value for Dogmonth19\n",
    "x1 = dogmonth19.index\n",
    "y1 = dogmonth19.values\n",
    "\n",
    "#X and Y value for Catmonth19\n",
    "x2 = catmonth19.index\n",
    "y2 = catmonth19.values\n",
    "\n",
    "plt.figure(figsize=(15,5))\n",
    "plt.xlabel('Months in FY2019')\n",
    "plt.ylabel('Number of Dog/Cat Adoption')\n",
    "plt.title('Number of Dog/Cat Adoption in FY2019')\n",
    "plt.plot(x1, y1, color='r', label='Dog')\n",
    "plt.plot(x2, y2, color='g', label='Cat')\n",
    "plt.yticks(np.arange(0,1000,100))\n",
    "plt.legend()\n",
    "plt.savefig('../Dallas_API/Plots/Adopt2019.png', dpi=300, bbox_inches='tight')\n",
    "\n",
    "plt.show()"
   ]
  },
  {
   "cell_type": "code",
   "execution_count": null,
   "id": "1a30a682",
   "metadata": {},
   "outputs": [],
   "source": [
    "#X and Y value for Dogmonth22\n",
    "x1 = dogmonth22.index\n",
    "y1 = dogmonth22.values\n",
    "\n",
    "#X and Y value for Catmonth22\n",
    "x2 = catmonth22.index\n",
    "y2 = catmonth22.values\n",
    "\n",
    "plt.figure(figsize=(15,5))\n",
    "plt.xlabel('Months in FY2022')\n",
    "plt.ylabel('Number of Dog/Cat Adoption')\n",
    "plt.title('Number of Dog/Cat Adoption in FY2022')\n",
    "plt.plot(x1, y1, color='r', label='Dog')\n",
    "plt.plot(x2, y2, color='g', label='Cat')\n",
    "plt.yticks(np.arange(0,1000,100))\n",
    "plt.legend()\n",
    "plt.savefig('../Dallas_API/Plots/Adopt2022.png', dpi=300, bbox_inches='tight')\n",
    "\n",
    "plt.show()"
   ]
  },
  {
   "cell_type": "code",
   "execution_count": null,
   "id": "e6f4dc35",
   "metadata": {},
   "outputs": [],
   "source": [
    "dog_surrender_df = dog_df.loc[dog_df[\"intake_type\"]==\"OWNER SURRENDER\"]\n",
    "dog_surrender_df.to_csv(\"../clean_datasets/DogSurrender.csv\")"
   ]
  },
  {
   "cell_type": "code",
   "execution_count": null,
   "id": "51886730",
   "metadata": {},
   "outputs": [],
   "source": [
    "#Dog surrendered in 2018\n",
    "dogsur18_df = dog_surrender_df.loc[dog_surrender_df['year']=='FY2018']\n",
    "dogsur18_df.month=dogsur18_df.month.apply(month_converter)\n",
    "dog_sur18 = dogsur18_df.groupby(['month']).outcome_type.count()\n",
    "#Dog surrendered in 2019\n",
    "dogsur19_df = dog_surrender_df.loc[dog_surrender_df['year']=='FY2019']\n",
    "dogsur19_df.month=dogsur19_df.month.apply(month_converter)\n",
    "dog_sur19 = dogsur19_df.groupby(['month']).outcome_type.count()\n",
    "#Dog surrendered in 2022\n",
    "dogsur22_df = dog_surrender_df.loc[dog_surrender_df['year']=='FY2022']\n",
    "dogsur22_df.month=dogsur22_df.month.apply(month_converter)\n",
    "dog_sur22 = dogsur22_df.groupby(['month']).outcome_type.count()"
   ]
  },
  {
   "cell_type": "code",
   "execution_count": null,
   "id": "1ca5fa6e",
   "metadata": {},
   "outputs": [],
   "source": [
    "cat_surrender_df = cat_df.loc[cat_df[\"intake_type\"]==\"OWNER SURRENDER\"]\n",
    "cat_surrender_df.to_csv(\"../clean_datasets/CatSurrender.csv\")"
   ]
  },
  {
   "cell_type": "code",
   "execution_count": null,
   "id": "1068db96",
   "metadata": {},
   "outputs": [],
   "source": [
    "#Cat surrendered in 2018\n",
    "catsur18_df = cat_surrender_df.loc[cat_surrender_df['year']=='FY2018']\n",
    "catsur18_df.month=catsur18_df.month.apply(month_converter)\n",
    "cat_sur18= catsur18_df.groupby(['month']).outcome_type.count()\n",
    "#Cat surrendered in 2019\n",
    "catsur19_df = cat_surrender_df.loc[cat_surrender_df['year']=='FY2019']\n",
    "catsur19_df.month=catsur19_df.month.apply(month_converter)\n",
    "cat_sur19 = catsur19_df.groupby(['month']).outcome_type.count()\n",
    "#Cat surrendered in 2022\n",
    "catsur22_df = cat_surrender_df.loc[cat_surrender_df['year']=='FY2022']\n",
    "catsur22_df.month=catsur22_df.month.apply(month_converter)\n",
    "cat_sur22 = catsur22_df.groupby(['month']).outcome_type.count()"
   ]
  },
  {
   "cell_type": "code",
   "execution_count": null,
   "id": "030acc31",
   "metadata": {},
   "outputs": [],
   "source": [
    "#X and Y value for Dog surrendered in 2018\n",
    "x1 = dog_sur18.index\n",
    "y1 = dog_sur18.values\n",
    "\n",
    "#X and Y value for Cat surrendered in 2018\n",
    "x2 = cat_sur18.index\n",
    "y2 = cat_sur18.values\n",
    "\n",
    "plt.figure(figsize=(15,5))\n",
    "plt.xlabel('Months in FY2018')\n",
    "plt.ylabel('Number of Dog/Cat Surrendered')\n",
    "plt.title('Number of Dog/Cat Surrendered in FY2018')\n",
    "plt.plot(x1, y1, color='r', label='Dog')\n",
    "plt.plot(x2, y2, color='g', label='Cat')\n",
    "plt.yticks(np.arange(0,1000,100))\n",
    "plt.legend()\n",
    "plt.savefig('../Dallas_API/Plots/Abandon2018.png', dpi=300, bbox_inches='tight')\n",
    "\n",
    "plt.show()"
   ]
  },
  {
   "cell_type": "code",
   "execution_count": null,
   "id": "4c68c387",
   "metadata": {},
   "outputs": [],
   "source": [
    "#X and Y value for Dog surrendered in 2019\n",
    "x1 = dog_sur19.index\n",
    "y1 = dog_sur19.values\n",
    "\n",
    "#X and Y value for Cat surrendered in 2019\n",
    "x2 = cat_sur19.index\n",
    "y2 = cat_sur19.values\n",
    "\n",
    "plt.figure(figsize=(15,5))\n",
    "plt.xlabel('Months in FY2019')\n",
    "plt.ylabel('Number of Dog/Cat Surrendered')\n",
    "plt.title('Number of Dog/Cat Surrendered in FY2019')\n",
    "plt.plot(x1, y1, color='r', label='Dog')\n",
    "plt.plot(x2, y2, color='g', label='Cat')\n",
    "plt.yticks(np.arange(0,1000,100))\n",
    "plt.legend()\n",
    "plt.savefig('../Dallas_API/Plots/Abandon2019.png', dpi=300, bbox_inches='tight')\n",
    "\n",
    "plt.show()"
   ]
  },
  {
   "cell_type": "code",
   "execution_count": null,
   "id": "eda0ba1e",
   "metadata": {},
   "outputs": [],
   "source": [
    "#X and Y value for Dog surrendered in 2022\n",
    "x1 = dog_sur22.index\n",
    "y1 = dog_sur22.values\n",
    "\n",
    "#X and Y value for Cat surrendered in 2022\n",
    "x2 = cat_sur22.index\n",
    "y2 = cat_sur22.values\n",
    "\n",
    "plt.figure(figsize=(15,5))\n",
    "plt.xlabel('Months in FY2022')\n",
    "plt.ylabel('Number of Dog/Cat Surrendered')\n",
    "plt.title('Number of Dog/Cat Surrendered in FY2022')\n",
    "plt.plot(x1, y1, color='r', label='Dog')\n",
    "plt.plot(x2, y2, color='g', label='Cat')\n",
    "plt.yticks(np.arange(0,1000,100))\n",
    "plt.legend()\n",
    "plt.savefig('../Dallas_API/Plots/Abandon2022.png', dpi=300, bbox_inches='tight')\n",
    "\n",
    "plt.show()"
   ]
  }
 ],
 "metadata": {
  "kernelspec": {
   "display_name": "Python 3 (ipykernel)",
   "language": "python",
   "name": "python3"
  },
  "language_info": {
   "codemirror_mode": {
    "name": "ipython",
    "version": 3
   },
   "file_extension": ".py",
   "mimetype": "text/x-python",
   "name": "python",
   "nbconvert_exporter": "python",
   "pygments_lexer": "ipython3",
   "version": "3.9.12"
  }
 },
 "nbformat": 4,
 "nbformat_minor": 5
}
