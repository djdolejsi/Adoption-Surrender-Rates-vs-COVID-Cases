{
 "cells": [
  {
   "cell_type": "code",
   "execution_count": 1,
   "id": "93a26032",
   "metadata": {},
   "outputs": [],
   "source": [
    "#!/usr/bin/env python\n",
    "\n",
    "# make sure to install these packages before running:\n",
    "# pip install pandas\n",
    "# pip install sodapy\n",
    "\n",
    "import pandas as pd\n",
    "from sodapy import Socrata\n",
    "from config import myapptoken\n",
    "from config import username\n",
    "from config import password\n",
    "import matplotlib.pyplot as plt\n",
    "import numpy as np\n",
    "\n",
    "# Example authenticated client (needed for non-public datasets):\n",
    "client = Socrata(\"www.dallasopendata.com\",\n",
    "                 myapptoken,\n",
    "                 username= username,\n",
    "                 password= password)\n",
    "\n",
    "# First 2000 results, returned as JSON from API / converted to Python list of\n",
    "# dictionaries by sodapy.\n",
    "results = client.get(\"f77p-sgrc\", limit=30000)\n",
    "results1 = client.get(\"7h2m-3um5\", limit=40000)\n",
    "results2 = client.get(\"wb7n-sdxi\", limit=40000)\n",
    "results3 = client.get(\"kf5k-aswg\", limit=50000)\n",
    "\n",
    "# Convert to pandas DataFrame\n",
    "results_df = pd.DataFrame.from_records(results)\n",
    "results_df1 = pd.DataFrame.from_records(results1)\n",
    "results_df2 = pd.DataFrame.from_records(results2)\n",
    "results_df3 = pd.DataFrame.from_records(results3)"
   ]
  },
  {
   "cell_type": "code",
   "execution_count": 2,
   "id": "154a0bff",
   "metadata": {},
   "outputs": [],
   "source": [
    "#Merge Data\n",
    "adoption_df = pd.merge(results_df, pd.merge(results_df1, pd.merge(results_df2, results_df3, how=\"outer\"), how=\"outer\"), how = \"outer\")"
   ]
  },
  {
   "cell_type": "code",
   "execution_count": 3,
   "id": "98a14630",
   "metadata": {},
   "outputs": [],
   "source": [
    "#Delete unnecessary columns\n",
    "adoption_df = adoption_df.drop(columns=['kennel_number', 'activity_number', 'activity_sequence', 'source_id', 'census_tract', 'council_district', 'intake_total', 'reason', 'staff_id', 'due_out', 'hold_request', 'outcome_subtype', 'outcome_time', 'receipt_number', 'impound_number', 'service_request_number', 'chip_status', 'animal_origin', 'intake_time', 'additional_information'])"
   ]
  },
  {
   "cell_type": "code",
   "execution_count": 4,
   "id": "d6d54cc7",
   "metadata": {},
   "outputs": [],
   "source": [
    "#Dropped duplicates\n",
    "adoption_df = adoption_df.sort_values('month').drop_duplicates(['animal_id'], keep='last')"
   ]
  },
  {
   "cell_type": "code",
   "execution_count": 5,
   "id": "d4270b87",
   "metadata": {},
   "outputs": [],
   "source": [
    "#Converting Months into numbers\n",
    "def month_converter(data):\n",
    "    data_split = data.split('.')\n",
    "    #Define the translation table\n",
    "    mapping = pd.DataFrame({'JAN':['01'], 'FEB':['02'], 'MAR':['03'], 'APR':['04'], 'MAY':['05'], 'JUN':['06'], 'JUL':['07'], 'AUG':['08'], 'SEP':['09'], 'OCT':['10'], 'NOV':['11'], 'DEC':['12']})\n",
    "    #get the number of the month\n",
    "    month_num = mapping[data_split[0]][0]\n",
    "    #Join the the month and year to get the result\n",
    "    result = '-'.join([data_split[1], month_num])\n",
    "    return(result)"
   ]
  },
  {
   "cell_type": "code",
   "execution_count": 6,
   "id": "686cabe8",
   "metadata": {},
   "outputs": [],
   "source": [
    "#Dog data only\n",
    "dog_df = adoption_df.loc[(adoption_df[\"animal_type\"]== \"DOG\")]"
   ]
  },
  {
   "cell_type": "code",
   "execution_count": 7,
   "id": "ffba0ee7",
   "metadata": {},
   "outputs": [],
   "source": [
    "#Dog adoption\n",
    "dog_adopt_df = dog_df.loc[dog_df[\"outcome_type\"]==\"ADOPTION\"]\n",
    "dog_adopt_df.to_csv(\"../clean_datasets/DogAdopt.csv\")"
   ]
  },
  {
   "cell_type": "code",
   "execution_count": 8,
   "id": "1c44b5d2",
   "metadata": {},
   "outputs": [],
   "source": [
    "#Cat data only\n",
    "cat_df = adoption_df.loc[(adoption_df[\"animal_type\"] == \"CAT\")]"
   ]
  },
  {
   "cell_type": "code",
   "execution_count": 9,
   "id": "39a7d0b1",
   "metadata": {},
   "outputs": [],
   "source": [
    "#Cat adoption\n",
    "cat_adopt_df = cat_df.loc[cat_df[\"outcome_type\"]==\"ADOPTION\"]\n",
    "cat_adopt_df.to_csv(\"../clean_datasets/CatAdopt.csv\")"
   ]
  },
  {
   "cell_type": "code",
   "execution_count": 10,
   "id": "402515f3",
   "metadata": {},
   "outputs": [
    {
     "name": "stderr",
     "output_type": "stream",
     "text": [
      "C:\\Users\\dillo\\AppData\\Local\\Temp\\ipykernel_20944\\4118449285.py:3: SettingWithCopyWarning: \n",
      "A value is trying to be set on a copy of a slice from a DataFrame.\n",
      "Try using .loc[row_indexer,col_indexer] = value instead\n",
      "\n",
      "See the caveats in the documentation: https://pandas.pydata.org/pandas-docs/stable/user_guide/indexing.html#returning-a-view-versus-a-copy\n",
      "  dogadopt18_df.month=dogadopt18_df.month.apply(month_converter)\n",
      "C:\\Users\\dillo\\AppData\\Local\\Temp\\ipykernel_20944\\4118449285.py:7: SettingWithCopyWarning: \n",
      "A value is trying to be set on a copy of a slice from a DataFrame.\n",
      "Try using .loc[row_indexer,col_indexer] = value instead\n",
      "\n",
      "See the caveats in the documentation: https://pandas.pydata.org/pandas-docs/stable/user_guide/indexing.html#returning-a-view-versus-a-copy\n",
      "  dogadopt19_df.month=dogadopt19_df.month.apply(month_converter)\n",
      "C:\\Users\\dillo\\AppData\\Local\\Temp\\ipykernel_20944\\4118449285.py:11: SettingWithCopyWarning: \n",
      "A value is trying to be set on a copy of a slice from a DataFrame.\n",
      "Try using .loc[row_indexer,col_indexer] = value instead\n",
      "\n",
      "See the caveats in the documentation: https://pandas.pydata.org/pandas-docs/stable/user_guide/indexing.html#returning-a-view-versus-a-copy\n",
      "  dogadopt22_df.month=dogadopt22_df.month.apply(month_converter)\n"
     ]
    }
   ],
   "source": [
    "#Dog adoption in 2018\n",
    "dogadopt18_df = dog_adopt_df.loc[dog_adopt_df['year']=='FY2018']\n",
    "dogadopt18_df.month=dogadopt18_df.month.apply(month_converter)\n",
    "dogmonth18 = dogadopt18_df.groupby(['month']).outcome_type.count()\n",
    "#Dog adoption in 2019\n",
    "dogadopt19_df = dog_adopt_df.loc[dog_adopt_df['year']=='FY2019']\n",
    "dogadopt19_df.month=dogadopt19_df.month.apply(month_converter)\n",
    "dogmonth19 = dogadopt19_df.groupby(['month']).outcome_type.count()\n",
    "#Dog adoption in 2022\n",
    "dogadopt22_df = dog_adopt_df.loc[dog_adopt_df['year']=='FY2022']\n",
    "dogadopt22_df.month=dogadopt22_df.month.apply(month_converter)\n",
    "dogmonth22 = dogadopt22_df.groupby(['month']).outcome_type.count()"
   ]
  },
  {
   "cell_type": "code",
   "execution_count": 11,
   "id": "8b25f4fb",
   "metadata": {
    "scrolled": true
   },
   "outputs": [
    {
     "name": "stderr",
     "output_type": "stream",
     "text": [
      "C:\\Users\\dillo\\AppData\\Local\\Temp\\ipykernel_20944\\1844697938.py:3: SettingWithCopyWarning: \n",
      "A value is trying to be set on a copy of a slice from a DataFrame.\n",
      "Try using .loc[row_indexer,col_indexer] = value instead\n",
      "\n",
      "See the caveats in the documentation: https://pandas.pydata.org/pandas-docs/stable/user_guide/indexing.html#returning-a-view-versus-a-copy\n",
      "  catadopt18_df.month=catadopt18_df.month.apply(month_converter)\n",
      "C:\\Users\\dillo\\AppData\\Local\\Temp\\ipykernel_20944\\1844697938.py:7: SettingWithCopyWarning: \n",
      "A value is trying to be set on a copy of a slice from a DataFrame.\n",
      "Try using .loc[row_indexer,col_indexer] = value instead\n",
      "\n",
      "See the caveats in the documentation: https://pandas.pydata.org/pandas-docs/stable/user_guide/indexing.html#returning-a-view-versus-a-copy\n",
      "  catadopt19_df.month=catadopt19_df.month.apply(month_converter)\n",
      "C:\\Users\\dillo\\AppData\\Local\\Temp\\ipykernel_20944\\1844697938.py:11: SettingWithCopyWarning: \n",
      "A value is trying to be set on a copy of a slice from a DataFrame.\n",
      "Try using .loc[row_indexer,col_indexer] = value instead\n",
      "\n",
      "See the caveats in the documentation: https://pandas.pydata.org/pandas-docs/stable/user_guide/indexing.html#returning-a-view-versus-a-copy\n",
      "  catadopt22_df.month=catadopt22_df.month.apply(month_converter)\n"
     ]
    }
   ],
   "source": [
    "#Cat adoption in 2018\n",
    "catadopt18_df = cat_adopt_df.loc[cat_adopt_df['year']=='FY2018']\n",
    "catadopt18_df.month=catadopt18_df.month.apply(month_converter)\n",
    "catmonth18 = catadopt18_df.groupby(['month']).outcome_type.count()\n",
    "#Cat adoption in 2019\n",
    "catadopt19_df = cat_adopt_df.loc[cat_adopt_df['year']=='FY2019']\n",
    "catadopt19_df.month=catadopt19_df.month.apply(month_converter)\n",
    "catmonth19 = catadopt19_df.groupby(['month']).outcome_type.count()\n",
    "#Cat adoption in 2022\n",
    "catadopt22_df = cat_adopt_df.loc[cat_adopt_df['year']=='FY2022']\n",
    "catadopt22_df.month=catadopt22_df.month.apply(month_converter)\n",
    "catmonth22 = catadopt22_df.groupby(['month']).outcome_type.count()"
   ]
  },
  {
   "cell_type": "code",
   "execution_count": 12,
   "id": "8b59d1f4",
   "metadata": {},
   "outputs": [
    {
     "ename": "FileNotFoundError",
     "evalue": "[Errno 2] No such file or directory: '../Dallas_API/Plots/Adopt2018.png'",
     "output_type": "error",
     "traceback": [
      "\u001b[1;31m---------------------------------------------------------------------------\u001b[0m",
      "\u001b[1;31mFileNotFoundError\u001b[0m                         Traceback (most recent call last)",
      "Input \u001b[1;32mIn [12]\u001b[0m, in \u001b[0;36m<cell line: 17>\u001b[1;34m()\u001b[0m\n\u001b[0;32m     15\u001b[0m plt\u001b[38;5;241m.\u001b[39myticks(np\u001b[38;5;241m.\u001b[39marange(\u001b[38;5;241m0\u001b[39m,\u001b[38;5;241m1000\u001b[39m,\u001b[38;5;241m100\u001b[39m))\n\u001b[0;32m     16\u001b[0m plt\u001b[38;5;241m.\u001b[39mlegend()\n\u001b[1;32m---> 17\u001b[0m \u001b[43mplt\u001b[49m\u001b[38;5;241;43m.\u001b[39;49m\u001b[43msavefig\u001b[49m\u001b[43m(\u001b[49m\u001b[38;5;124;43m'\u001b[39;49m\u001b[38;5;124;43m../Dallas_API/Plots/Adopt2018.png\u001b[39;49m\u001b[38;5;124;43m'\u001b[39;49m\u001b[43m,\u001b[49m\u001b[43m \u001b[49m\u001b[43mdpi\u001b[49m\u001b[38;5;241;43m=\u001b[39;49m\u001b[38;5;241;43m300\u001b[39;49m\u001b[43m,\u001b[49m\u001b[43m \u001b[49m\u001b[43mbbox_inches\u001b[49m\u001b[38;5;241;43m=\u001b[39;49m\u001b[38;5;124;43m'\u001b[39;49m\u001b[38;5;124;43mtight\u001b[39;49m\u001b[38;5;124;43m'\u001b[39;49m\u001b[43m)\u001b[49m\n\u001b[0;32m     19\u001b[0m plt\u001b[38;5;241m.\u001b[39mshow()\n",
      "File \u001b[1;32m~\\anaconda3\\lib\\site-packages\\matplotlib\\pyplot.py:958\u001b[0m, in \u001b[0;36msavefig\u001b[1;34m(*args, **kwargs)\u001b[0m\n\u001b[0;32m    955\u001b[0m \u001b[38;5;129m@_copy_docstring_and_deprecators\u001b[39m(Figure\u001b[38;5;241m.\u001b[39msavefig)\n\u001b[0;32m    956\u001b[0m \u001b[38;5;28;01mdef\u001b[39;00m \u001b[38;5;21msavefig\u001b[39m(\u001b[38;5;241m*\u001b[39margs, \u001b[38;5;241m*\u001b[39m\u001b[38;5;241m*\u001b[39mkwargs):\n\u001b[0;32m    957\u001b[0m     fig \u001b[38;5;241m=\u001b[39m gcf()\n\u001b[1;32m--> 958\u001b[0m     res \u001b[38;5;241m=\u001b[39m fig\u001b[38;5;241m.\u001b[39msavefig(\u001b[38;5;241m*\u001b[39margs, \u001b[38;5;241m*\u001b[39m\u001b[38;5;241m*\u001b[39mkwargs)\n\u001b[0;32m    959\u001b[0m     fig\u001b[38;5;241m.\u001b[39mcanvas\u001b[38;5;241m.\u001b[39mdraw_idle()   \u001b[38;5;66;03m# need this if 'transparent=True' to reset colors\u001b[39;00m\n\u001b[0;32m    960\u001b[0m     \u001b[38;5;28;01mreturn\u001b[39;00m res\n",
      "File \u001b[1;32m~\\anaconda3\\lib\\site-packages\\matplotlib\\figure.py:3019\u001b[0m, in \u001b[0;36mFigure.savefig\u001b[1;34m(self, fname, transparent, **kwargs)\u001b[0m\n\u001b[0;32m   3015\u001b[0m     \u001b[38;5;28;01mfor\u001b[39;00m ax \u001b[38;5;129;01min\u001b[39;00m \u001b[38;5;28mself\u001b[39m\u001b[38;5;241m.\u001b[39maxes:\n\u001b[0;32m   3016\u001b[0m         stack\u001b[38;5;241m.\u001b[39menter_context(\n\u001b[0;32m   3017\u001b[0m             ax\u001b[38;5;241m.\u001b[39mpatch\u001b[38;5;241m.\u001b[39m_cm_set(facecolor\u001b[38;5;241m=\u001b[39m\u001b[38;5;124m'\u001b[39m\u001b[38;5;124mnone\u001b[39m\u001b[38;5;124m'\u001b[39m, edgecolor\u001b[38;5;241m=\u001b[39m\u001b[38;5;124m'\u001b[39m\u001b[38;5;124mnone\u001b[39m\u001b[38;5;124m'\u001b[39m))\n\u001b[1;32m-> 3019\u001b[0m \u001b[38;5;28mself\u001b[39m\u001b[38;5;241m.\u001b[39mcanvas\u001b[38;5;241m.\u001b[39mprint_figure(fname, \u001b[38;5;241m*\u001b[39m\u001b[38;5;241m*\u001b[39mkwargs)\n",
      "File \u001b[1;32m~\\anaconda3\\lib\\site-packages\\matplotlib\\backend_bases.py:2319\u001b[0m, in \u001b[0;36mFigureCanvasBase.print_figure\u001b[1;34m(self, filename, dpi, facecolor, edgecolor, orientation, format, bbox_inches, pad_inches, bbox_extra_artists, backend, **kwargs)\u001b[0m\n\u001b[0;32m   2315\u001b[0m \u001b[38;5;28;01mtry\u001b[39;00m:\n\u001b[0;32m   2316\u001b[0m     \u001b[38;5;66;03m# _get_renderer may change the figure dpi (as vector formats\u001b[39;00m\n\u001b[0;32m   2317\u001b[0m     \u001b[38;5;66;03m# force the figure dpi to 72), so we need to set it again here.\u001b[39;00m\n\u001b[0;32m   2318\u001b[0m     \u001b[38;5;28;01mwith\u001b[39;00m cbook\u001b[38;5;241m.\u001b[39m_setattr_cm(\u001b[38;5;28mself\u001b[39m\u001b[38;5;241m.\u001b[39mfigure, dpi\u001b[38;5;241m=\u001b[39mdpi):\n\u001b[1;32m-> 2319\u001b[0m         result \u001b[38;5;241m=\u001b[39m print_method(\n\u001b[0;32m   2320\u001b[0m             filename,\n\u001b[0;32m   2321\u001b[0m             facecolor\u001b[38;5;241m=\u001b[39mfacecolor,\n\u001b[0;32m   2322\u001b[0m             edgecolor\u001b[38;5;241m=\u001b[39medgecolor,\n\u001b[0;32m   2323\u001b[0m             orientation\u001b[38;5;241m=\u001b[39morientation,\n\u001b[0;32m   2324\u001b[0m             bbox_inches_restore\u001b[38;5;241m=\u001b[39m_bbox_inches_restore,\n\u001b[0;32m   2325\u001b[0m             \u001b[38;5;241m*\u001b[39m\u001b[38;5;241m*\u001b[39mkwargs)\n\u001b[0;32m   2326\u001b[0m \u001b[38;5;28;01mfinally\u001b[39;00m:\n\u001b[0;32m   2327\u001b[0m     \u001b[38;5;28;01mif\u001b[39;00m bbox_inches \u001b[38;5;129;01mand\u001b[39;00m restore_bbox:\n",
      "File \u001b[1;32m~\\anaconda3\\lib\\site-packages\\matplotlib\\backend_bases.py:1648\u001b[0m, in \u001b[0;36m_check_savefig_extra_args.<locals>.wrapper\u001b[1;34m(*args, **kwargs)\u001b[0m\n\u001b[0;32m   1640\u001b[0m     _api\u001b[38;5;241m.\u001b[39mwarn_deprecated(\n\u001b[0;32m   1641\u001b[0m         \u001b[38;5;124m'\u001b[39m\u001b[38;5;124m3.3\u001b[39m\u001b[38;5;124m'\u001b[39m, name\u001b[38;5;241m=\u001b[39mname, removal\u001b[38;5;241m=\u001b[39m\u001b[38;5;124m'\u001b[39m\u001b[38;5;124m3.6\u001b[39m\u001b[38;5;124m'\u001b[39m,\n\u001b[0;32m   1642\u001b[0m         message\u001b[38;5;241m=\u001b[39m\u001b[38;5;124m'\u001b[39m\u001b[38;5;132;01m%(name)s\u001b[39;00m\u001b[38;5;124m() got unexpected keyword argument \u001b[39m\u001b[38;5;124m\"\u001b[39m\u001b[38;5;124m'\u001b[39m\n\u001b[0;32m   1643\u001b[0m                 \u001b[38;5;241m+\u001b[39m arg \u001b[38;5;241m+\u001b[39m \u001b[38;5;124m'\u001b[39m\u001b[38;5;124m\"\u001b[39m\u001b[38;5;124m which is no longer supported as of \u001b[39m\u001b[38;5;124m'\u001b[39m\n\u001b[0;32m   1644\u001b[0m                 \u001b[38;5;124m'\u001b[39m\u001b[38;5;132;01m%(since)s\u001b[39;00m\u001b[38;5;124m and will become an error \u001b[39m\u001b[38;5;124m'\u001b[39m\n\u001b[0;32m   1645\u001b[0m                 \u001b[38;5;124m'\u001b[39m\u001b[38;5;132;01m%(removal)s\u001b[39;00m\u001b[38;5;124m'\u001b[39m)\n\u001b[0;32m   1646\u001b[0m     kwargs\u001b[38;5;241m.\u001b[39mpop(arg)\n\u001b[1;32m-> 1648\u001b[0m \u001b[38;5;28;01mreturn\u001b[39;00m func(\u001b[38;5;241m*\u001b[39margs, \u001b[38;5;241m*\u001b[39m\u001b[38;5;241m*\u001b[39mkwargs)\n",
      "File \u001b[1;32m~\\anaconda3\\lib\\site-packages\\matplotlib\\_api\\deprecation.py:412\u001b[0m, in \u001b[0;36mdelete_parameter.<locals>.wrapper\u001b[1;34m(*inner_args, **inner_kwargs)\u001b[0m\n\u001b[0;32m    402\u001b[0m     deprecation_addendum \u001b[38;5;241m=\u001b[39m (\n\u001b[0;32m    403\u001b[0m         \u001b[38;5;124mf\u001b[39m\u001b[38;5;124m\"\u001b[39m\u001b[38;5;124mIf any parameter follows \u001b[39m\u001b[38;5;132;01m{\u001b[39;00mname\u001b[38;5;132;01m!r}\u001b[39;00m\u001b[38;5;124m, they should be passed as \u001b[39m\u001b[38;5;124m\"\u001b[39m\n\u001b[0;32m    404\u001b[0m         \u001b[38;5;124mf\u001b[39m\u001b[38;5;124m\"\u001b[39m\u001b[38;5;124mkeyword, not positionally.\u001b[39m\u001b[38;5;124m\"\u001b[39m)\n\u001b[0;32m    405\u001b[0m     warn_deprecated(\n\u001b[0;32m    406\u001b[0m         since,\n\u001b[0;32m    407\u001b[0m         name\u001b[38;5;241m=\u001b[39m\u001b[38;5;28mrepr\u001b[39m(name),\n\u001b[1;32m   (...)\u001b[0m\n\u001b[0;32m    410\u001b[0m                  \u001b[38;5;28;01melse\u001b[39;00m deprecation_addendum,\n\u001b[0;32m    411\u001b[0m         \u001b[38;5;241m*\u001b[39m\u001b[38;5;241m*\u001b[39mkwargs)\n\u001b[1;32m--> 412\u001b[0m \u001b[38;5;28;01mreturn\u001b[39;00m func(\u001b[38;5;241m*\u001b[39minner_args, \u001b[38;5;241m*\u001b[39m\u001b[38;5;241m*\u001b[39minner_kwargs)\n",
      "File \u001b[1;32m~\\anaconda3\\lib\\site-packages\\matplotlib\\backends\\backend_agg.py:541\u001b[0m, in \u001b[0;36mFigureCanvasAgg.print_png\u001b[1;34m(self, filename_or_obj, metadata, pil_kwargs, *args)\u001b[0m\n\u001b[0;32m    494\u001b[0m \u001b[38;5;124;03m\"\"\"\u001b[39;00m\n\u001b[0;32m    495\u001b[0m \u001b[38;5;124;03mWrite the figure to a PNG file.\u001b[39;00m\n\u001b[0;32m    496\u001b[0m \n\u001b[1;32m   (...)\u001b[0m\n\u001b[0;32m    538\u001b[0m \u001b[38;5;124;03m    *metadata*, including the default 'Software' key.\u001b[39;00m\n\u001b[0;32m    539\u001b[0m \u001b[38;5;124;03m\"\"\"\u001b[39;00m\n\u001b[0;32m    540\u001b[0m FigureCanvasAgg\u001b[38;5;241m.\u001b[39mdraw(\u001b[38;5;28mself\u001b[39m)\n\u001b[1;32m--> 541\u001b[0m \u001b[43mmpl\u001b[49m\u001b[38;5;241;43m.\u001b[39;49m\u001b[43mimage\u001b[49m\u001b[38;5;241;43m.\u001b[39;49m\u001b[43mimsave\u001b[49m\u001b[43m(\u001b[49m\n\u001b[0;32m    542\u001b[0m \u001b[43m    \u001b[49m\u001b[43mfilename_or_obj\u001b[49m\u001b[43m,\u001b[49m\u001b[43m \u001b[49m\u001b[38;5;28;43mself\u001b[39;49m\u001b[38;5;241;43m.\u001b[39;49m\u001b[43mbuffer_rgba\u001b[49m\u001b[43m(\u001b[49m\u001b[43m)\u001b[49m\u001b[43m,\u001b[49m\u001b[43m \u001b[49m\u001b[38;5;28;43mformat\u001b[39;49m\u001b[38;5;241;43m=\u001b[39;49m\u001b[38;5;124;43m\"\u001b[39;49m\u001b[38;5;124;43mpng\u001b[39;49m\u001b[38;5;124;43m\"\u001b[39;49m\u001b[43m,\u001b[49m\u001b[43m \u001b[49m\u001b[43morigin\u001b[49m\u001b[38;5;241;43m=\u001b[39;49m\u001b[38;5;124;43m\"\u001b[39;49m\u001b[38;5;124;43mupper\u001b[39;49m\u001b[38;5;124;43m\"\u001b[39;49m\u001b[43m,\u001b[49m\n\u001b[0;32m    543\u001b[0m \u001b[43m    \u001b[49m\u001b[43mdpi\u001b[49m\u001b[38;5;241;43m=\u001b[39;49m\u001b[38;5;28;43mself\u001b[39;49m\u001b[38;5;241;43m.\u001b[39;49m\u001b[43mfigure\u001b[49m\u001b[38;5;241;43m.\u001b[39;49m\u001b[43mdpi\u001b[49m\u001b[43m,\u001b[49m\u001b[43m \u001b[49m\u001b[43mmetadata\u001b[49m\u001b[38;5;241;43m=\u001b[39;49m\u001b[43mmetadata\u001b[49m\u001b[43m,\u001b[49m\u001b[43m \u001b[49m\u001b[43mpil_kwargs\u001b[49m\u001b[38;5;241;43m=\u001b[39;49m\u001b[43mpil_kwargs\u001b[49m\u001b[43m)\u001b[49m\n",
      "File \u001b[1;32m~\\anaconda3\\lib\\site-packages\\matplotlib\\image.py:1675\u001b[0m, in \u001b[0;36mimsave\u001b[1;34m(fname, arr, vmin, vmax, cmap, format, origin, dpi, metadata, pil_kwargs)\u001b[0m\n\u001b[0;32m   1673\u001b[0m pil_kwargs\u001b[38;5;241m.\u001b[39msetdefault(\u001b[38;5;124m\"\u001b[39m\u001b[38;5;124mformat\u001b[39m\u001b[38;5;124m\"\u001b[39m, \u001b[38;5;28mformat\u001b[39m)\n\u001b[0;32m   1674\u001b[0m pil_kwargs\u001b[38;5;241m.\u001b[39msetdefault(\u001b[38;5;124m\"\u001b[39m\u001b[38;5;124mdpi\u001b[39m\u001b[38;5;124m\"\u001b[39m, (dpi, dpi))\n\u001b[1;32m-> 1675\u001b[0m image\u001b[38;5;241m.\u001b[39msave(fname, \u001b[38;5;241m*\u001b[39m\u001b[38;5;241m*\u001b[39mpil_kwargs)\n",
      "File \u001b[1;32m~\\anaconda3\\lib\\site-packages\\PIL\\Image.py:2209\u001b[0m, in \u001b[0;36mImage.save\u001b[1;34m(self, fp, format, **params)\u001b[0m\n\u001b[0;32m   2207\u001b[0m         fp \u001b[38;5;241m=\u001b[39m builtins\u001b[38;5;241m.\u001b[39mopen(filename, \u001b[38;5;124m\"\u001b[39m\u001b[38;5;124mr+b\u001b[39m\u001b[38;5;124m\"\u001b[39m)\n\u001b[0;32m   2208\u001b[0m     \u001b[38;5;28;01melse\u001b[39;00m:\n\u001b[1;32m-> 2209\u001b[0m         fp \u001b[38;5;241m=\u001b[39m \u001b[43mbuiltins\u001b[49m\u001b[38;5;241;43m.\u001b[39;49m\u001b[43mopen\u001b[49m\u001b[43m(\u001b[49m\u001b[43mfilename\u001b[49m\u001b[43m,\u001b[49m\u001b[43m \u001b[49m\u001b[38;5;124;43m\"\u001b[39;49m\u001b[38;5;124;43mw+b\u001b[39;49m\u001b[38;5;124;43m\"\u001b[39;49m\u001b[43m)\u001b[49m\n\u001b[0;32m   2211\u001b[0m \u001b[38;5;28;01mtry\u001b[39;00m:\n\u001b[0;32m   2212\u001b[0m     save_handler(\u001b[38;5;28mself\u001b[39m, fp, filename)\n",
      "\u001b[1;31mFileNotFoundError\u001b[0m: [Errno 2] No such file or directory: '../Dallas_API/Plots/Adopt2018.png'"
     ]
    },
    {
     "data": {
      "image/png": "[encoded data removed]",
      "text/plain": [
       "<Figure size 1080x360 with 1 Axes>"
      ]
     },
     "metadata": {
      "needs_background": "light"
     },
     "output_type": "display_data"
    }
   ],
   "source": [
    "#X and Y value for Dogmonth18\n",
    "x1 = dogmonth18.index\n",
    "y1 = dogmonth18.values\n",
    "\n",
    "#X and Y value for Catmonth18\n",
    "x2 = catmonth18.index\n",
    "y2 = catmonth18.values\n",
    "\n",
    "plt.figure(figsize=(15,5))\n",
    "plt.plot(x1, y1, color='r', label='Dog')\n",
    "plt.plot(x2, y2, color='g', label='Cat')\n",
    "plt.xlabel('Months in FY2018')\n",
    "plt.ylabel('Number of Dog/Cat Adoption')\n",
    "plt.title('Number of Dog/Cat Adoption in FY2018')\n",
    "plt.yticks(np.arange(0,1000,100))\n",
    "plt.legend()\n",
    "plt.savefig('../Dallas_API/Plots/Adopt2018.png', dpi=300, bbox_inches='tight')\n",
    "\n",
    "plt.show()"
   ]
  },
  {
   "cell_type": "code",
   "execution_count": null,
   "id": "90d892d0",
   "metadata": {},
   "outputs": [],
   "source": [
    "#X and Y value for Dogmonth19\n",
    "x1 = dogmonth19.index\n",
    "y1 = dogmonth19.values\n",
    "\n",
    "#X and Y value for Catmonth19\n",
    "x2 = catmonth19.index\n",
    "y2 = catmonth19.values\n",
    "\n",
    "plt.figure(figsize=(15,5))\n",
    "plt.xlabel('Months in FY2019')\n",
    "plt.ylabel('Number of Dog/Cat Adoption')\n",
    "plt.title('Number of Dog/Cat Adoption in FY2019')\n",
    "plt.plot(x1, y1, color='r', label='Dog')\n",
    "plt.plot(x2, y2, color='g', label='Cat')\n",
    "plt.yticks(np.arange(0,1000,100))\n",
    "plt.legend()\n",
    "plt.savefig('../Dallas_API/Plots/Adopt2019.png', dpi=300, bbox_inches='tight')\n",
    "\n",
    "plt.show()"
   ]
  },
  {
   "cell_type": "code",
   "execution_count": null,
   "id": "1a30a682",
   "metadata": {},
   "outputs": [],
   "source": [
    "#X and Y value for Dogmonth22\n",
    "x1 = dogmonth22.index\n",
    "y1 = dogmonth22.values\n",
    "\n",
    "#X and Y value for Catmonth22\n",
    "x2 = catmonth22.index\n",
    "y2 = catmonth22.values\n",
    "\n",
    "plt.figure(figsize=(15,5))\n",
    "plt.xlabel('Months in FY2022')\n",
    "plt.ylabel('Number of Dog/Cat Adoption')\n",
    "plt.title('Number of Dog/Cat Adoption in FY2022')\n",
    "plt.plot(x1, y1, color='r', label='Dog')\n",
    "plt.plot(x2, y2, color='g', label='Cat')\n",
    "plt.yticks(np.arange(0,1000,100))\n",
    "plt.legend()\n",
    "plt.savefig('../Dallas_API/Plots/Adopt2022.png', dpi=300, bbox_inches='tight')\n",
    "\n",
    "plt.show()"
   ]
  },
  {
   "cell_type": "code",
   "execution_count": null,
   "id": "e6f4dc35",
   "metadata": {},
   "outputs": [],
   "source": [
    "dog_surrender_df = dog_df.loc[dog_df[\"intake_type\"]==\"OWNER SURRENDER\"]\n",
    "dog_surrender_df.to_csv(\"../clean_datasets/DogSurrender.csv\")"
   ]
  },
  {
   "cell_type": "code",
   "execution_count": null,
   "id": "51886730",
   "metadata": {},
   "outputs": [],
   "source": [
    "#Dog surrendered in 2018\n",
    "dogsur18_df = dog_surrender_df.loc[dog_surrender_df['year']=='FY2018']\n",
    "dogsur18_df.month=dogsur18_df.month.apply(month_converter)\n",
    "dog_sur18 = dogsur18_df.groupby(['month']).outcome_type.count()\n",
    "#Dog surrendered in 2019\n",
    "dogsur19_df = dog_surrender_df.loc[dog_surrender_df['year']=='FY2019']\n",
    "dogsur19_df.month=dogsur19_df.month.apply(month_converter)\n",
    "dog_sur19 = dogsur19_df.groupby(['month']).outcome_type.count()\n",
    "#Dog surrendered in 2022\n",
    "dogsur22_df = dog_surrender_df.loc[dog_surrender_df['year']=='FY2022']\n",
    "dogsur22_df.month=dogsur22_df.month.apply(month_converter)\n",
    "dog_sur22 = dogsur22_df.groupby(['month']).outcome_type.count()"
   ]
  },
  {
   "cell_type": "code",
   "execution_count": null,
   "id": "1ca5fa6e",
   "metadata": {},
   "outputs": [],
   "source": [
    "cat_surrender_df = cat_df.loc[cat_df[\"intake_type\"]==\"OWNER SURRENDER\"]\n",
    "cat_surrender_df.to_csv(\"../clean_datasets/CatSurrender.csv\")"
   ]
  },
  {
   "cell_type": "code",
   "execution_count": null,
   "id": "1068db96",
   "metadata": {},
   "outputs": [],
   "source": [
    "#Cat surrendered in 2018\n",
    "catsur18_df = cat_surrender_df.loc[cat_surrender_df['year']=='FY2018']\n",
    "catsur18_df.month=catsur18_df.month.apply(month_converter)\n",
    "cat_sur18= catsur18_df.groupby(['month']).outcome_type.count()\n",
    "#Cat surrendered in 2019\n",
    "catsur19_df = cat_surrender_df.loc[cat_surrender_df['year']=='FY2019']\n",
    "catsur19_df.month=catsur19_df.month.apply(month_converter)\n",
    "cat_sur19 = catsur19_df.groupby(['month']).outcome_type.count()\n",
    "#Cat surrendered in 2022\n",
    "catsur22_df = cat_surrender_df.loc[cat_surrender_df['year']=='FY2022']\n",
    "catsur22_df.month=catsur22_df.month.apply(month_converter)\n",
    "cat_sur22 = catsur22_df.groupby(['month']).outcome_type.count()"
   ]
  },
  {
   "cell_type": "code",
   "execution_count": null,
   "id": "030acc31",
   "metadata": {},
   "outputs": [],
   "source": [
    "#X and Y value for Dog surrendered in 2018\n",
    "x1 = dog_sur18.index\n",
    "y1 = dog_sur18.values\n",
    "\n",
    "#X and Y value for Cat surrendered in 2018\n",
    "x2 = cat_sur18.index\n",
    "y2 = cat_sur18.values\n",
    "\n",
    "plt.figure(figsize=(15,5))\n",
    "plt.xlabel('Months in FY2018')\n",
    "plt.ylabel('Number of Dog/Cat Surrendered')\n",
    "plt.title('Number of Dog/Cat Surrendered in FY2018')\n",
    "plt.plot(x1, y1, color='r', label='Dog')\n",
    "plt.plot(x2, y2, color='g', label='Cat')\n",
    "plt.yticks(np.arange(0,1000,100))\n",
    "plt.legend()\n",
    "plt.savefig('../Dallas_API/Plots/Abandon2018.png', dpi=300, bbox_inches='tight')\n",
    "\n",
    "plt.show()"
   ]
  },
  {
   "cell_type": "code",
   "execution_count": null,
   "id": "4c68c387",
   "metadata": {},
   "outputs": [],
   "source": [
    "#X and Y value for Dog surrendered in 2019\n",
    "x1 = dog_sur19.index\n",
    "y1 = dog_sur19.values\n",
    "\n",
    "#X and Y value for Cat surrendered in 2019\n",
    "x2 = cat_sur19.index\n",
    "y2 = cat_sur19.values\n",
    "\n",
    "plt.figure(figsize=(15,5))\n",
    "plt.xlabel('Months in FY2019')\n",
    "plt.ylabel('Number of Dog/Cat Surrendered')\n",
    "plt.title('Number of Dog/Cat Surrendered in FY2019')\n",
    "plt.plot(x1, y1, color='r', label='Dog')\n",
    "plt.plot(x2, y2, color='g', label='Cat')\n",
    "plt.yticks(np.arange(0,1000,100))\n",
    "plt.legend()\n",
    "plt.savefig('../Dallas_API/Plots/Abandon2019.png', dpi=300, bbox_inches='tight')\n",
    "\n",
    "plt.show()"
   ]
  },
  {
   "cell_type": "code",
   "execution_count": null,
   "id": "eda0ba1e",
   "metadata": {},
   "outputs": [],
   "source": [
    "#X and Y value for Dog surrendered in 2022\n",
    "x1 = dog_sur22.index\n",
    "y1 = dog_sur22.values\n",
    "\n",
    "#X and Y value for Cat surrendered in 2022\n",
    "x2 = cat_sur22.index\n",
    "y2 = cat_sur22.values\n",
    "\n",
    "plt.figure(figsize=(15,5))\n",
    "plt.xlabel('Months in FY2022')\n",
    "plt.ylabel('Number of Dog/Cat Surrendered')\n",
    "plt.title('Number of Dog/Cat Surrendered in FY2022')\n",
    "plt.plot(x1, y1, color='r', label='Dog')\n",
    "plt.plot(x2, y2, color='g', label='Cat')\n",
    "plt.yticks(np.arange(0,1000,100))\n",
    "plt.legend()\n",
    "plt.savefig('../Dallas_API/Plots/Abandon2022.png', dpi=300, bbox_inches='tight')\n",
    "\n",
    "plt.show()"
   ]
  }
 ],
 "metadata": {
  "kernelspec": {
   "display_name": "Python 3 (ipykernel)",
   "language": "python",
   "name": "python3"
  },
  "language_info": {
   "codemirror_mode": {
    "name": "ipython",
    "version": 3
   },
   "file_extension": ".py",
   "mimetype": "text/x-python",
   "name": "python",
   "nbconvert_exporter": "python",
   "pygments_lexer": "ipython3",
   "version": "3.9.12"
  }
 },
 "nbformat": 4,
 "nbformat_minor": 5
}
